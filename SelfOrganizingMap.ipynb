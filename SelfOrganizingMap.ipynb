{
 "cells": [
  {
   "cell_type": "markdown",
   "id": "9e22830c-95d7-47d6-a27e-f6a995708ddd",
   "metadata": {},
   "source": [
    "# Self Organizing Map \n",
    "Self Organizing Map (SOM) is a datastructure that allows you to investigate the structure of a set of data. It indicates how many classes presnet in an unlabelled data."
   ]
  },
  {
   "cell_type": "markdown",
   "id": "f2e510e5-08cf-41b2-984c-7267adef74fd",
   "metadata": {},
   "source": [
    "## Defining SOM Class"
   ]
  },
  {
   "cell_type": "code",
   "execution_count": 1,
   "id": "65c6515d-6fa0-42b6-9075-ca6e094bdc50",
   "metadata": {
    "tags": []
   },
   "outputs": [],
   "source": [
    "class SOM:\n",
    "    \"\"\"Datastructure to store unlabelled data\n",
    "    \n",
    "    Methods:\n",
    "    -------\n",
    "        winner(weights, sample)\n",
    "            Calculates the winning vector and returns index of the winning vector\n",
    "            \n",
    "        update(weights, sample, j, alpha)\n",
    "            Updates the winning vector j in weights\n",
    "    \n",
    "    \"\"\"\n",
    "    @staticmethod\n",
    "    def winner(weights, sample):\n",
    "        \"\"\"Calulate the winning vector and return its index in the weight matrix\n",
    "        \n",
    "        Args:\n",
    "        ----\n",
    "            weights (list[list[number]]): The Weight matrix\n",
    "            sample (list[list[number]]): The data\n",
    "        \"\"\"\n",
    "        \n",
    "        D0 = 0\n",
    "        D1 = 0\n",
    "        \n",
    "        for i in range(len(sample)):\n",
    "            D0 += (sample[i] - weights[0][i]) ** 2\n",
    "            D1 += (sample[i] - weights[1][i]) ** 2\n",
    "            \n",
    "        if D0 < D1:\n",
    "            return 0\n",
    "        return 1 # Else Return 1\n",
    "    \n",
    "    @staticmethod\n",
    "    def update(weights, sample, j, alpha):\n",
    "        \"\"\"Updates the winning vector j in weights\n",
    "        \n",
    "        Args:\n",
    "        ----\n",
    "            weights (list[list[number]]): The Weight matrix\n",
    "            sample (list[list[number]]): The data\n",
    "            \n",
    "        Returns:\n",
    "        -------\n",
    "            weights (list[list[number]]): The updated weight matrix\n",
    "            \n",
    "        \"\"\"\n",
    "        \n",
    "        for i in range(len(sample)):\n",
    "            weights[j][i] = weights[j][i] + alpha * (sample[i] - weights[j][i])\n",
    "            \n",
    "        return weights\n"
   ]
  },
  {
   "cell_type": "markdown",
   "id": "98054518-d620-44d9-b807-44c3807882d7",
   "metadata": {},
   "source": [
    "## Training and Evaluation"
   ]
  },
  {
   "cell_type": "code",
   "execution_count": 5,
   "id": "0124cff8-5830-4b92-a907-e8185d6b8487",
   "metadata": {
    "tags": []
   },
   "outputs": [
    {
     "name": "stdout",
     "output_type": "stream",
     "text": [
      "Test sample s belongs to: 1\n",
      "Trained weights:  [[0.003125, 0.009375, 0.6640625, 0.9984375], [0.996875, 0.334375, 0.0109375, 0.0046875]]\n"
     ]
    }
   ],
   "source": [
    "if __name__ == \"__main__\":\n",
    "    T = [[1,1,0,0], [0,0,0,1], [1, 0,0,0], [0,0,1,1]]\n",
    "    m,n = len(T), len(T[0])\n",
    "    \n",
    "    weights = [[0.2, 0.6, 0.5, 0.9], [0.8,0.4, 0.7,0.3]]\n",
    "    \n",
    "    ob = SOM()\n",
    "    epochs = 3\n",
    "    alpha = 0.5\n",
    "    \n",
    "    for i in range(epochs):\n",
    "        for j in range(m):\n",
    "            sample = T[j]\n",
    "            J = ob.winner(weights ,sample)\n",
    "            \n",
    "            weights = ob.update(weights, sample, J, alpha)\n",
    "            \n",
    "    S = [1, 1, 0, 1]\n",
    "    \n",
    "    J = ob.winner(weights, S)\n",
    "    \n",
    "    print(\"Test sample s belongs to:\", J)\n",
    "    print(\"Trained weights: \", weights)"
   ]
  },
  {
   "cell_type": "code",
   "execution_count": null,
   "id": "b6961d94-2478-4f44-9540-bbdf7fec38f2",
   "metadata": {},
   "outputs": [],
   "source": []
  }
 ],
 "metadata": {
  "kernelspec": {
   "display_name": "Python 3 (ipykernel)",
   "language": "python",
   "name": "python3"
  },
  "language_info": {
   "codemirror_mode": {
    "name": "ipython",
    "version": 3
   },
   "file_extension": ".py",
   "mimetype": "text/x-python",
   "name": "python",
   "nbconvert_exporter": "python",
   "pygments_lexer": "ipython3",
   "version": "3.11.4"
  }
 },
 "nbformat": 4,
 "nbformat_minor": 5
}
