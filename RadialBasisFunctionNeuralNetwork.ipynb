{
 "cells": [
  {
   "cell_type": "markdown",
   "id": "2018b183-8892-451c-ab97-2adf8ea7606b",
   "metadata": {},
   "source": [
    "# Radial Basis Function\n",
    "A radial basis function network is an artificial neural network that uses radial basis functions as activation functions. The output of the network is a linear combination of radial basis functions of the inputs and neuron parameters."
   ]
  },
  {
   "cell_type": "markdown",
   "id": "51377a9c-07b0-4845-954f-7808a10c04c0",
   "metadata": {},
   "source": [
    "## Import Modules\n",
    "- `numpy` for n-dim array processing\n",
    "- `scikit-learn` for using Kmeans algorithm\n",
    "- `scipy.spatial.distance` for distance calculation"
   ]
  },
  {
   "cell_type": "code",
   "execution_count": 1,
   "id": "acf04d4c-6232-4950-91aa-86173910c7af",
   "metadata": {
    "tags": []
   },
   "outputs": [],
   "source": [
    "import numpy as np\n",
    "import matplotlib.pyplot as plt \n",
    "\n",
    "from sklearn.cluster import KMeans\n",
    "from sklearn.datasets import make_classification\n",
    "from sklearn.model_selection import train_test_split\n",
    "from sklearn.metrics import accuracy_score\n",
    "from scipy.spatial.distance import cdist"
   ]
  },
  {
   "cell_type": "markdown",
   "id": "c9f8145a-cb70-4caf-bbf2-a2f39f9d589f",
   "metadata": {},
   "source": [
    "## Generating Sample data for training "
   ]
  },
  {
   "cell_type": "code",
   "execution_count": 2,
   "id": "4da87f79-9cd6-46fe-aa80-9394affe5618",
   "metadata": {
    "tags": []
   },
   "outputs": [
    {
     "name": "stdout",
     "output_type": "stream",
     "text": [
      "[[-0.99910178 -0.66386   ]\n",
      " [ 1.24668618  1.15359685]\n",
      " [ 0.96277683  0.85939747]\n",
      " [-2.95744095  2.03364529]\n",
      " [ 1.14116527  1.05944863]] [1 1 1 1 1]\n"
     ]
    }
   ],
   "source": [
    "X, y = make_classification(n_samples=1000, n_features=2, n_classes=2, n_clusters_per_class=2, random_state=42, n_redundant=0)\n",
    "print(X[:5], y[:5])\n",
    "X_train, X_test, y_train, y_test = train_test_split(X, y, test_size=0.2)"
   ]
  },
  {
   "cell_type": "markdown",
   "id": "c3fba2d1-3442-4820-ab1d-837a11f1afd5",
   "metadata": {},
   "source": [
    "## Estimating prototype vectors "
   ]
  },
  {
   "cell_type": "code",
   "execution_count": 3,
   "id": "1f0c0f2e-bc5c-493c-84cc-0c99418b9861",
   "metadata": {
    "tags": []
   },
   "outputs": [
    {
     "name": "stdout",
     "output_type": "stream",
     "text": [
      "[[-2.15696913  0.97476311]\n",
      " [ 0.49087419  0.67030716]\n",
      " [ 0.63607273 -1.08590891]\n",
      " [ 2.72498885  2.54663932]\n",
      " [ 1.8915942  -1.07569499]\n",
      " [-1.48070924 -2.41117961]\n",
      " [-1.38784916  2.36280046]\n",
      " [ 1.36051597  1.48526253]\n",
      " [-0.55275744  0.29968335]\n",
      " [-0.895613   -0.89201129]]\n"
     ]
    }
   ],
   "source": [
    "num_neurons = 10\n",
    "\n",
    "kmeans = KMeans(n_clusters=num_neurons, random_state=42, n_init=10)\n",
    "\n",
    "kmeans.fit(X_train)\n",
    "\n",
    "centers = kmeans.cluster_centers_\n",
    "\n",
    "print(centers)"
   ]
  },
  {
   "cell_type": "code",
   "execution_count": 4,
   "id": "78b47abc-f287-4094-a3bf-e7e956cae31e",
   "metadata": {
    "tags": []
   },
   "outputs": [
    {
     "name": "stdout",
     "output_type": "stream",
     "text": [
      "0.6026272156044401\n"
     ]
    }
   ],
   "source": [
    "std_dev = np.mean(cdist(centers, centers, 'euclidean')) / np.sqrt(2*num_neurons)\n",
    "print(std_dev)"
   ]
  },
  {
   "cell_type": "markdown",
   "id": "ef7d55a3-9d08-446d-85b1-6e4bab72a327",
   "metadata": {},
   "source": [
    "## Defining RBF Activation"
   ]
  },
  {
   "cell_type": "code",
   "execution_count": 5,
   "id": "11557beb-35c1-4354-b751-cfb23df5b82d",
   "metadata": {
    "tags": []
   },
   "outputs": [],
   "source": [
    "def rbf_activation(X, centers, std_dev):\n",
    "    return np.exp(-cdist(X, centers, 'sqeuclidean') / (2 * std_dev**2))"
   ]
  },
  {
   "cell_type": "code",
   "execution_count": 10,
   "id": "e935b760-5f68-4b18-a7f6-15a415935231",
   "metadata": {
    "tags": []
   },
   "outputs": [],
   "source": [
    "rbf_train = rbf_activation(X_train, centers, std_dev)\n",
    "rbf_test = rbf_activation(X_test, centers, std_dev)\n",
    "\n",
    "rbf_train = np.hstack([rbf_train, np.ones((rbf_train.shape[0], 1))])\n",
    "rbf_test = np.hstack([rbf_test, np.ones((rbf_test.shape[0], 1))])"
   ]
  },
  {
   "cell_type": "markdown",
   "id": "9d8674c1-3f8d-47f7-89a7-f990b17f43eb",
   "metadata": {},
   "source": [
    "## Training RBFNN"
   ]
  },
  {
   "cell_type": "code",
   "execution_count": 11,
   "id": "e00d6475-65a2-498a-a8f6-77c0f9b2cd25",
   "metadata": {
    "tags": []
   },
   "outputs": [
    {
     "name": "stdout",
     "output_type": "stream",
     "text": [
      "Accuracy:  88.0\n"
     ]
    }
   ],
   "source": [
    "from sklearn.linear_model import LogisticRegression\n",
    "\n",
    "clf = LogisticRegression()\n",
    "\n",
    "clf.fit(rbf_train, y_train)\n",
    "\n",
    "y_pred = clf.predict(rbf_test)\n",
    "\n",
    "accuracy = accuracy_score(y_pred, y_test)\n",
    "\n",
    "print(\"Accuracy: \", accuracy*100)"
   ]
  },
  {
   "cell_type": "code",
   "execution_count": null,
   "id": "8c93f6cd-0fef-4d6a-8720-084963977cae",
   "metadata": {},
   "outputs": [],
   "source": []
  }
 ],
 "metadata": {
  "kernelspec": {
   "display_name": "Python 3 (ipykernel)",
   "language": "python",
   "name": "python3"
  },
  "language_info": {
   "codemirror_mode": {
    "name": "ipython",
    "version": 3
   },
   "file_extension": ".py",
   "mimetype": "text/x-python",
   "name": "python",
   "nbconvert_exporter": "python",
   "pygments_lexer": "ipython3",
   "version": "3.11.4"
  },
  "toc-autonumbering": true,
  "toc-showcode": true
 },
 "nbformat": 4,
 "nbformat_minor": 5
}
