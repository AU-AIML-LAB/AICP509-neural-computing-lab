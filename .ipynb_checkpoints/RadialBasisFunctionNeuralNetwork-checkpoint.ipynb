{
 "cells": [
  {
   "cell_type": "code",
   "execution_count": 1,
   "id": "acf04d4c-6232-4950-91aa-86173910c7af",
   "metadata": {
    "tags": []
   },
   "outputs": [],
   "source": [
    "import numpy as np\n",
    "import matplotlib.pyplot as plt \n",
    "\n",
    "from sklearn.cluster import KMeans\n",
    "from sklearn.datasets import make_classification\n",
    "from sklearn.model_selection import train_test_split\n",
    "from sklearn.metrics import accuracy_score\n",
    "from scipy.spatial.distance import cdist"
   ]
  },
  {
   "cell_type": "code",
   "execution_count": 3,
   "id": "4da87f79-9cd6-46fe-aa80-9394affe5618",
   "metadata": {
    "tags": []
   },
   "outputs": [
    {
     "name": "stdout",
     "output_type": "stream",
     "text": [
      "[[-0.99910178 -0.66386   ]\n",
      " [ 1.24668618  1.15359685]\n",
      " [ 0.96277683  0.85939747]\n",
      " [-2.95744095  2.03364529]\n",
      " [ 1.14116527  1.05944863]] [1 1 1 1 1]\n"
     ]
    }
   ],
   "source": [
    "X, y = make_classification(n_samples=1000, n_features=2, n_classes=2, n_clusters_per_class=2, random_state=42, n_redundant=0)\n",
    "print(X[:5], y[:5])\n",
    "X_train, X_test, y_train, y_test = train_test_split(X, y, test_size=0.2)"
   ]
  },
  {
   "cell_type": "code",
   "execution_count": 25,
   "id": "1f0c0f2e-bc5c-493c-84cc-0c99418b9861",
   "metadata": {
    "tags": []
   },
   "outputs": [
    {
     "name": "stdout",
     "output_type": "stream",
     "text": [
      "[[-2.19051237  0.75827088]\n",
      " [-0.39406292  0.07094792]\n",
      " [ 0.65075103 -1.08578374]\n",
      " [ 0.94451706  1.01653303]\n",
      " [-0.80031699  1.37314485]\n",
      " [-1.47724876 -2.36079823]\n",
      " [ 1.93174133 -1.06121315]\n",
      " [ 2.0894322   2.18769235]\n",
      " [-2.0352836   2.71303376]\n",
      " [-0.89782982 -0.92802662]]\n"
     ]
    }
   ],
   "source": [
    "num_neurons = 10\n",
    "\n",
    "kmeans = KMeans(n_clusters=num_neurons, random_state=42, n_init=10)\n",
    "\n",
    "kmeans.fit(X_train)\n",
    "\n",
    "centers = kmeans.cluster_centers_\n",
    "\n",
    "print(centers)"
   ]
  },
  {
   "cell_type": "code",
   "execution_count": 7,
   "id": "78b47abc-f287-4094-a3bf-e7e956cae31e",
   "metadata": {
    "tags": []
   },
   "outputs": [
    {
     "name": "stdout",
     "output_type": "stream",
     "text": [
      "0.5930068138491337\n"
     ]
    }
   ],
   "source": [
    "std_dev = np.mean(cdist(centers, centers, 'euclidean')) / np.sqrt(2*num_neurons)\n",
    "print(std_dev)"
   ]
  },
  {
   "cell_type": "code",
   "execution_count": 8,
   "id": "11557beb-35c1-4354-b751-cfb23df5b82d",
   "metadata": {
    "tags": []
   },
   "outputs": [],
   "source": [
    "def rbf_activation(X, centers, std_dev):\n",
    "    return np.exp(-cdist(X, centers, 'sqeuclidean') / (2 * std_dev**2))"
   ]
  },
  {
   "cell_type": "code",
   "execution_count": 19,
   "id": "e935b760-5f68-4b18-a7f6-15a415935231",
   "metadata": {
    "tags": []
   },
   "outputs": [],
   "source": [
    "rbf_train = rbf_activation(X_train, centers, std_dev)\n",
    "rbf_test = rbf_activation(X_test, centers, std_dev)\n",
    "\n",
    "rbf_train = np.hstack([rbf_train, np.ones((rbf_train.shape[0], 1))])\n",
    "rbf_test = np.hstack([rbf_test, np.ones((rbf_test.shape[0], 1))])\n",
    "\n"
   ]
  },
  {
   "cell_type": "code",
   "execution_count": 20,
   "id": "e00d6475-65a2-498a-a8f6-77c0f9b2cd25",
   "metadata": {
    "tags": []
   },
   "outputs": [
    {
     "name": "stdout",
     "output_type": "stream",
     "text": [
      "Accuracy:  88.5\n"
     ]
    }
   ],
   "source": [
    "from sklearn.linear_model import LogisticRegression\n",
    "\n",
    "clf = LogisticRegression()\n",
    "\n",
    "clf.fit(rbf_train, y_train)\n",
    "\n",
    "y_pred = clf.predict(rbf_test)\n",
    "\n",
    "accuracy = accuracy_score(y_pred, y_test)\n",
    "\n",
    "print(\"Accuracy: \", accuracy*100)"
   ]
  },
  {
   "cell_type": "code",
   "execution_count": null,
   "id": "39b5cd63-88b1-4c80-9891-0782a8bef92f",
   "metadata": {},
   "outputs": [],
   "source": []
  }
 ],
 "metadata": {
  "kernelspec": {
   "display_name": "Python 3 (ipykernel)",
   "language": "python",
   "name": "python3"
  },
  "language_info": {
   "codemirror_mode": {
    "name": "ipython",
    "version": 3
   },
   "file_extension": ".py",
   "mimetype": "text/x-python",
   "name": "python",
   "nbconvert_exporter": "python",
   "pygments_lexer": "ipython3",
   "version": "3.11.4"
  },
  "toc-autonumbering": true,
  "toc-showcode": true
 },
 "nbformat": 4,
 "nbformat_minor": 5
}
