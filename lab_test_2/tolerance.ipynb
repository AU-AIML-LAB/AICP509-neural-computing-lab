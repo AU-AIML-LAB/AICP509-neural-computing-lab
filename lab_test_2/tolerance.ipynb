{
 "cells": [
  {
   "cell_type": "code",
   "execution_count": 4,
   "metadata": {},
   "outputs": [],
   "source": [
    "import skfuzzy as fuzz\n",
    "import numpy as np"
   ]
  },
  {
   "cell_type": "code",
   "execution_count": 32,
   "metadata": {},
   "outputs": [],
   "source": [
    "r = np.array([\n",
    "    [1, 0.8, 0, 0.1, 0.2],\n",
    "    [0.8, 1, 0.4, 0, 0.9],\n",
    "    [0, 0.4 ,1., 0, 0,],\n",
    "    [0.1, 0, 0, 1 , 0.5], \n",
    "    [0.2, 0.9, 0, 0.5, 1]\n",
    "])"
   ]
  },
  {
   "cell_type": "code",
   "execution_count": 35,
   "metadata": {},
   "outputs": [],
   "source": [
    "def is_reflexive(x):\n",
    "    return np.all(np.diag(x) == 1.)\n",
    "\n",
    "def is_symmetric(x):\n",
    "    return np.all(x == x.T)\n",
    "\n",
    "def is_transitive(r):\n",
    "\n",
    "    n = r.shape[0]\n",
    "    t = []\n",
    "    for i in range(n):\n",
    "        for j in range(n):\n",
    "            if i == j: continue\n",
    "            \n",
    "            t.append(all([\n",
    "                r[i, j] >= r[(i, k), (k, j)].min() for k in range(n)\n",
    "            ]))\n",
    "\n",
    "    return all(t)\n",
    "\n"
   ]
  },
  {
   "cell_type": "code",
   "execution_count": 47,
   "metadata": {},
   "outputs": [
    {
     "name": "stdout",
     "output_type": "stream",
     "text": [
      "Given fuzzy relation is tolerance but not equivalence\n",
      "[[1.  0.8 0.4 0.5 0.8]\n",
      " [0.8 1.  0.4 0.5 0.9]\n",
      " [0.4 0.4 1.  0.4 0.4]\n",
      " [0.5 0.5 0.4 1.  0.5]\n",
      " [0.8 0.9 0.4 0.5 1. ]]\n",
      "The above relation satisfies equivalence after 3 composition\n"
     ]
    }
   ],
   "source": [
    "def check_tolerance(r):\n",
    "    return is_reflexive(r) and is_symmetric(r) and not is_transitive(r)\n",
    "\n",
    "def check_equivalence(r):\n",
    "    return is_reflexive(r) and is_symmetric(r) and is_transitive(r)\n",
    "\n",
    "if check_tolerance(r):\n",
    "    print(\"Given fuzzy relation is tolerance but not equivalence\")\n",
    "\n",
    "rc = r\n",
    "for i in range(2, r.shape[0]):\n",
    "    rc = fuzz.maxmin_composition(rc, r)\n",
    "    if check_equivalence(rc):\n",
    "        \n",
    "        print(rc)\n",
    "        print(\"The above relation satisfies equivalence after {0} composition\".format(i))\n",
    "        break"
   ]
  },
  {
   "cell_type": "code",
   "execution_count": null,
   "metadata": {},
   "outputs": [],
   "source": []
  }
 ],
 "metadata": {
  "kernelspec": {
   "display_name": "Python 3 (ipykernel)",
   "language": "python",
   "name": "python3"
  },
  "language_info": {
   "codemirror_mode": {
    "name": "ipython",
    "version": 3
   },
   "file_extension": ".py",
   "mimetype": "text/x-python",
   "name": "python",
   "nbconvert_exporter": "python",
   "pygments_lexer": "ipython3",
   "version": "3.11.4"
  },
  "orig_nbformat": 4
 },
 "nbformat": 4,
 "nbformat_minor": 2
}
