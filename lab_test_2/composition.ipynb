{
 "cells": [
  {
   "cell_type": "code",
   "execution_count": 39,
   "metadata": {},
   "outputs": [],
   "source": [
    "import numpy as np\n",
    "import skfuzzy as fuzz"
   ]
  },
  {
   "cell_type": "code",
   "execution_count": 40,
   "metadata": {},
   "outputs": [],
   "source": [
    "p = np.array([0.1, 0.3, 0.7, 0.4, 0.2])\n",
    "q = np.array([0.1, 0.3, 0.3, 0.4, 0.5, 0.2])\n",
    "t = np.array([0.1, 0.7, 0.3])"
   ]
  },
  {
   "cell_type": "code",
   "execution_count": 41,
   "metadata": {},
   "outputs": [
    {
     "name": "stdout",
     "output_type": "stream",
     "text": [
      "R = p x q\n",
      "[[0.1 0.1 0.1 0.1 0.1 0.1]\n",
      " [0.1 0.3 0.3 0.3 0.3 0.2]\n",
      " [0.1 0.3 0.3 0.4 0.5 0.2]\n",
      " [0.1 0.3 0.3 0.4 0.4 0.2]\n",
      " [0.1 0.2 0.2 0.2 0.2 0.2]]\n",
      "S = q x t\n",
      "[[0.1 0.1 0.1]\n",
      " [0.1 0.3 0.3]\n",
      " [0.1 0.3 0.3]\n",
      " [0.1 0.4 0.3]\n",
      " [0.1 0.5 0.3]\n",
      " [0.1 0.2 0.2]]\n"
     ]
    }
   ],
   "source": [
    "r = fuzz.relation_min(p, q)\n",
    "print('R = p x q')\n",
    "print(r)\n",
    "\n",
    "s = fuzz.relation_min(q, t)\n",
    "print('S = q x t')\n",
    "print(s)"
   ]
  },
  {
   "cell_type": "code",
   "execution_count": 42,
   "metadata": {},
   "outputs": [
    {
     "name": "stdout",
     "output_type": "stream",
     "text": [
      "Max min composition\n",
      "[[0.1 0.1 0.1]\n",
      " [0.1 0.3 0.3]\n",
      " [0.1 0.5 0.3]\n",
      " [0.1 0.4 0.3]\n",
      " [0.1 0.2 0.2]]\n"
     ]
    }
   ],
   "source": [
    "print(\"Max min composition\")\n",
    "print(fuzz.maxmin_composition(r, s))"
   ]
  },
  {
   "cell_type": "code",
   "execution_count": 43,
   "metadata": {},
   "outputs": [
    {
     "name": "stdout",
     "output_type": "stream",
     "text": [
      "Max Product composition\n",
      "[[0.01 0.05 0.03]\n",
      " [0.03 0.15 0.09]\n",
      " [0.05 0.25 0.15]\n",
      " [0.04 0.2  0.12]\n",
      " [0.02 0.1  0.06]]\n"
     ]
    }
   ],
   "source": [
    "print(\"Max Product composition\")\n",
    "print(fuzz.maxprod_composition(r, s))"
   ]
  },
  {
   "cell_type": "code",
   "execution_count": 52,
   "metadata": {},
   "outputs": [],
   "source": [
    "def composition(rel_a, rel_b, op_a=np.max, op_b=np.min):\n",
    "    assert np.shape(rel_a)[1] == np.shape(rel_b)[0], \"Invalid shape for relational matrix {} {}\"\n",
    "    res = np.zeros(\n",
    "        (np.shape(rel_a)[0], np.shape(rel_b)[1]), float\n",
    "    )\n",
    "    for row in range(res.shape[0]):\n",
    "        for col in range(res.shape[1]):\n",
    "            res[row, col] = op_b([op_a(rel_a[row]), op_a(rel_b[: , col])])\n",
    "\n",
    "    return res"
   ]
  },
  {
   "cell_type": "markdown",
   "metadata": {},
   "source": [
    "## Max Min Composition"
   ]
  },
  {
   "cell_type": "code",
   "execution_count": 53,
   "metadata": {},
   "outputs": [
    {
     "name": "stdout",
     "output_type": "stream",
     "text": [
      "[[0.1 0.1 0.1]\n",
      " [0.1 0.3 0.3]\n",
      " [0.1 0.5 0.3]\n",
      " [0.1 0.4 0.3]\n",
      " [0.1 0.2 0.2]]\n"
     ]
    }
   ],
   "source": [
    "res = composition(r, s)\n",
    "print(res)"
   ]
  },
  {
   "cell_type": "markdown",
   "metadata": {},
   "source": [
    "## Max Product Composition"
   ]
  },
  {
   "cell_type": "code",
   "execution_count": 54,
   "metadata": {},
   "outputs": [
    {
     "name": "stdout",
     "output_type": "stream",
     "text": [
      "[[0.01 0.05 0.03]\n",
      " [0.03 0.15 0.09]\n",
      " [0.05 0.25 0.15]\n",
      " [0.04 0.2  0.12]\n",
      " [0.02 0.1  0.06]]\n"
     ]
    }
   ],
   "source": [
    "res = composition(r, s, np.max, np.prod)\n",
    "print(res)"
   ]
  },
  {
   "cell_type": "markdown",
   "metadata": {},
   "source": [
    "## Min Max Composition"
   ]
  },
  {
   "cell_type": "code",
   "execution_count": 56,
   "metadata": {},
   "outputs": [
    {
     "name": "stdout",
     "output_type": "stream",
     "text": [
      "[[0.1 0.1 0.1]\n",
      " [0.1 0.1 0.1]\n",
      " [0.1 0.1 0.1]\n",
      " [0.1 0.1 0.1]\n",
      " [0.1 0.1 0.1]]\n"
     ]
    }
   ],
   "source": [
    "res = composition(r, s, np.min, np.max)\n",
    "print(res)"
   ]
  },
  {
   "cell_type": "markdown",
   "metadata": {},
   "source": [
    "## Max Max Composition"
   ]
  },
  {
   "cell_type": "code",
   "execution_count": 55,
   "metadata": {},
   "outputs": [
    {
     "name": "stdout",
     "output_type": "stream",
     "text": [
      "[[0.1 0.5 0.3]\n",
      " [0.3 0.5 0.3]\n",
      " [0.5 0.5 0.5]\n",
      " [0.4 0.5 0.4]\n",
      " [0.2 0.5 0.3]]\n"
     ]
    }
   ],
   "source": [
    "res = composition(r, s, np.max, np.max)\n",
    "print(res)"
   ]
  },
  {
   "cell_type": "markdown",
   "metadata": {},
   "source": [
    "## Min Min Composition"
   ]
  },
  {
   "cell_type": "code",
   "execution_count": 57,
   "metadata": {},
   "outputs": [
    {
     "name": "stdout",
     "output_type": "stream",
     "text": [
      "[[0.1 0.1 0.1]\n",
      " [0.1 0.1 0.1]\n",
      " [0.1 0.1 0.1]\n",
      " [0.1 0.1 0.1]\n",
      " [0.1 0.1 0.1]]\n"
     ]
    }
   ],
   "source": [
    "res = composition(r, s, np.min, np.min)\n",
    "print(res)"
   ]
  },
  {
   "cell_type": "markdown",
   "metadata": {},
   "source": [
    "## Max Average Composition"
   ]
  },
  {
   "cell_type": "code",
   "execution_count": 62,
   "metadata": {},
   "outputs": [
    {
     "name": "stdout",
     "output_type": "stream",
     "text": [
      "[[0.1  0.3  0.2 ]\n",
      " [0.2  0.4  0.3 ]\n",
      " [0.3  0.5  0.4 ]\n",
      " [0.25 0.45 0.35]\n",
      " [0.15 0.35 0.25]]\n"
     ]
    }
   ],
   "source": [
    "res = composition(r, s, np.max, np.mean) \n",
    "print(res)"
   ]
  },
  {
   "cell_type": "code",
   "execution_count": null,
   "metadata": {},
   "outputs": [],
   "source": []
  }
 ],
 "metadata": {
  "kernelspec": {
   "display_name": "Python 3 (ipykernel)",
   "language": "python",
   "name": "python3"
  },
  "language_info": {
   "codemirror_mode": {
    "name": "ipython",
    "version": 3
   },
   "file_extension": ".py",
   "mimetype": "text/x-python",
   "name": "python",
   "nbconvert_exporter": "python",
   "pygments_lexer": "ipython3",
   "version": "3.11.4"
  },
  "orig_nbformat": 4
 },
 "nbformat": 4,
 "nbformat_minor": 2
}
